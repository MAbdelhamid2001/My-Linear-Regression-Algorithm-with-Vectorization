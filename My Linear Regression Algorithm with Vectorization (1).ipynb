{
 "cells": [
  {
   "cell_type": "code",
   "execution_count": 1,
   "metadata": {},
   "outputs": [],
   "source": [
    "import numpy as np # for numerical operations\n",
    "import pandas as pd # for handling input data\n",
    "import matplotlib.pyplot as plt # for data visualization \n",
    "train = pd.read_csv('BMI_Dataset_train.csv') # uses pandas library to open a .csv file\n",
    "test = pd.read_csv('BMI_Dataset_test.csv')"
   ]
  },
  {
   "cell_type": "code",
   "execution_count": 2,
   "metadata": {},
   "outputs": [
    {
     "data": {
      "text/html": [
       "<div>\n",
       "<style scoped>\n",
       "    .dataframe tbody tr th:only-of-type {\n",
       "        vertical-align: middle;\n",
       "    }\n",
       "\n",
       "    .dataframe tbody tr th {\n",
       "        vertical-align: top;\n",
       "    }\n",
       "\n",
       "    .dataframe thead th {\n",
       "        text-align: right;\n",
       "    }\n",
       "</style>\n",
       "<table border=\"1\" class=\"dataframe\">\n",
       "  <thead>\n",
       "    <tr style=\"text-align: right;\">\n",
       "      <th></th>\n",
       "      <th>ID</th>\n",
       "      <th>Height(meter)</th>\n",
       "      <th>Weight(KG)</th>\n",
       "    </tr>\n",
       "  </thead>\n",
       "  <tbody>\n",
       "    <tr>\n",
       "      <th>0</th>\n",
       "      <td>1</td>\n",
       "      <td>1.771304</td>\n",
       "      <td>59.242109</td>\n",
       "    </tr>\n",
       "    <tr>\n",
       "      <th>1</th>\n",
       "      <td>2</td>\n",
       "      <td>1.745401</td>\n",
       "      <td>59.732606</td>\n",
       "    </tr>\n",
       "    <tr>\n",
       "      <th>2</th>\n",
       "      <td>3</td>\n",
       "      <td>1.622663</td>\n",
       "      <td>49.255217</td>\n",
       "    </tr>\n",
       "    <tr>\n",
       "      <th>3</th>\n",
       "      <td>4</td>\n",
       "      <td>1.737576</td>\n",
       "      <td>51.955354</td>\n",
       "    </tr>\n",
       "    <tr>\n",
       "      <th>4</th>\n",
       "      <td>5</td>\n",
       "      <td>1.725486</td>\n",
       "      <td>60.547349</td>\n",
       "    </tr>\n",
       "  </tbody>\n",
       "</table>\n",
       "</div>"
      ],
      "text/plain": [
       "   ID  Height(meter)  Weight(KG)\n",
       "0   1       1.771304   59.242109\n",
       "1   2       1.745401   59.732606\n",
       "2   3       1.622663   49.255217\n",
       "3   4       1.737576   51.955354\n",
       "4   5       1.725486   60.547349"
      ]
     },
     "execution_count": 2,
     "metadata": {},
     "output_type": "execute_result"
    }
   ],
   "source": [
    "test.head()"
   ]
  },
  {
   "cell_type": "code",
   "execution_count": 3,
   "metadata": {},
   "outputs": [],
   "source": [
    "x= train.drop(['BMI','ID'],axis=1)\n",
    "label=train['BMI']"
   ]
  },
  {
   "cell_type": "code",
   "execution_count": 4,
   "metadata": {},
   "outputs": [],
   "source": [
    "x=np.array(x)\n",
    "y=np.array(label)\n"
   ]
  },
  {
   "cell_type": "code",
   "execution_count": 5,
   "metadata": {},
   "outputs": [
    {
     "data": {
      "text/plain": [
       "(1000, 2)"
      ]
     },
     "execution_count": 5,
     "metadata": {},
     "output_type": "execute_result"
    }
   ],
   "source": [
    "x.shape"
   ]
  },
  {
   "cell_type": "code",
   "execution_count": 6,
   "metadata": {},
   "outputs": [
    {
     "data": {
      "text/plain": [
       "array([[ 1.67089607, 51.24119481],\n",
       "       [ 1.81648633, 61.89589865],\n",
       "       [ 1.762728  , 69.39647493],\n",
       "       ...,\n",
       "       [ 1.77930708, 61.06972693],\n",
       "       [ 1.70954624, 55.33654501],\n",
       "       [ 1.6865125 , 58.2057889 ]])"
      ]
     },
     "execution_count": 6,
     "metadata": {},
     "output_type": "execute_result"
    }
   ],
   "source": [
    "x"
   ]
  },
  {
   "cell_type": "code",
   "execution_count": 7,
   "metadata": {
    "scrolled": true
   },
   "outputs": [
    {
     "data": {
      "text/plain": [
       "(1000,)"
      ]
     },
     "execution_count": 7,
     "metadata": {},
     "output_type": "execute_result"
    }
   ],
   "source": [
    "y.shape"
   ]
  },
  {
   "cell_type": "code",
   "execution_count": 8,
   "metadata": {
    "scrolled": true
   },
   "outputs": [
    {
     "data": {
      "text/plain": [
       "array([18.35356231, 18.7584782 , 22.33401515, 21.49982789, 22.07275754,\n",
       "       18.36485748, 20.41296726, 19.56753733, 17.13120924, 19.01813419,\n",
       "       17.54520204, 18.9258715 , 19.10924187, 17.50255542, 19.47089433,\n",
       "       20.60847878, 21.32481594, 19.10488481, 19.34784271, 21.58205872,\n",
       "       21.26676576, 17.07669376, 19.44424753, 21.80109169, 20.18708692,\n",
       "       19.94793445, 20.29826882, 17.20177106, 18.69375688, 15.02271709,\n",
       "       19.59639877, 19.22539616, 19.21332561, 19.10018371, 18.89539265,\n",
       "       22.33447848, 18.61524935, 20.0805596 , 18.28682104, 18.5889674 ,\n",
       "       20.65599464, 20.23321995, 20.90223215, 17.18744208, 19.19246377,\n",
       "       22.89334232, 17.91658686, 19.8706185 , 21.14200216, 19.58677024,\n",
       "       17.86314148, 17.03208244, 20.30458172, 21.10408812, 22.10666605,\n",
       "       20.33055223, 19.05154888, 20.6216217 , 20.45938215, 20.30743432,\n",
       "       19.5504978 , 20.16446428, 18.97203044, 16.555425  , 20.99802326,\n",
       "       20.3403347 , 16.10707683, 21.33610393, 18.77035638, 20.18375519,\n",
       "       17.49134453, 19.39694896, 19.20392677, 20.8467164 , 21.79909638,\n",
       "       16.72012051, 18.77666295, 20.08547561, 19.21124053, 22.25633163,\n",
       "       20.6324521 , 18.94941343, 20.51160886, 21.82339423, 18.82701374,\n",
       "       17.28800529, 19.85983668, 20.67850388, 20.15700732, 19.34012063,\n",
       "       16.45870738, 19.1102053 , 18.60961351, 19.20158968, 21.50893339,\n",
       "       20.20563974, 17.10463611, 17.05104424, 20.35506201, 20.19095742,\n",
       "       16.10687827, 17.54064607, 18.76080146, 18.89243745, 20.21604197,\n",
       "       18.72156147, 21.93989607, 18.70650331, 18.27873863, 18.78436103,\n",
       "       18.08587322, 17.50321803, 19.19548044, 19.6981312 , 19.6518544 ,\n",
       "       19.02154491, 20.31523827, 19.46232107, 16.95983263, 18.70928274,\n",
       "       20.00689151, 16.27159159, 20.12353902, 17.40929045, 18.17504538,\n",
       "       20.76873413, 19.08860049, 19.99726792, 18.10624014, 17.01372242,\n",
       "       20.98320465, 17.8199945 , 20.53626325, 18.86708404, 19.60237937,\n",
       "       19.48505617, 18.71633222, 19.81064893, 18.75962245, 19.04688295,\n",
       "       19.20307775, 17.72703212, 17.56771776, 20.0095617 , 19.07578384,\n",
       "       19.46793482, 20.40258326, 18.22810218, 21.42544624, 19.21833861,\n",
       "       22.60785532, 18.31419775, 18.13846298, 22.17654946, 16.78243204,\n",
       "       18.80910787, 19.1010924 , 22.85603223, 18.62731245, 20.31089744,\n",
       "       18.02492989, 21.14416054, 19.84325192, 17.31511484, 19.96128335,\n",
       "       19.76848271, 17.96006022, 17.87642612, 18.89554661, 19.08157685,\n",
       "       19.71466134, 17.96136977, 16.50630164, 19.32774693, 19.33987247,\n",
       "       19.61529271, 18.90675397, 21.07173599, 18.82670035, 17.20744125,\n",
       "       18.48166327, 22.62361416, 20.86603174, 19.10849175, 19.16694283,\n",
       "       20.00811172, 15.38848457, 20.68686858, 18.166488  , 20.52221226,\n",
       "       22.63675   , 21.08848165, 19.61999086, 18.62363187, 19.36684617,\n",
       "       19.36384511, 17.6364618 , 19.76646442, 17.95179287, 19.35904406,\n",
       "       18.73577513, 18.5671862 , 21.0606529 , 17.66125335, 21.38126513,\n",
       "       20.29541681, 21.40812123, 20.10574537, 20.54648082, 16.79152306,\n",
       "       17.0646424 , 20.16611086, 20.37180315, 19.07097287, 18.34472106,\n",
       "       17.25257806, 21.07790363, 17.78036583, 21.14831038, 19.04298821,\n",
       "       17.37950031, 19.08727376, 18.47503938, 17.53586184, 18.96838992,\n",
       "       19.0686578 , 17.41710567, 19.71998883, 21.43470967, 21.06630031,\n",
       "       15.81579926, 18.03023085, 20.64156269, 17.89134781, 17.10952131,\n",
       "       22.33221993, 21.28857945, 23.21241294, 21.75818373, 20.20731837,\n",
       "       21.24136011, 19.33029618, 16.64384232, 19.42993853, 19.81665831,\n",
       "       18.08267232, 13.63809414, 19.8753938 , 23.12132772, 18.5896272 ,\n",
       "       19.09206701, 17.77869484, 18.55744529, 19.25728309, 18.44179275,\n",
       "       19.40442621, 18.51881487, 17.4159476 , 18.93184328, 17.23856203,\n",
       "       18.13655237, 20.08255067, 19.95024512, 20.0304597 , 18.73248842,\n",
       "       17.19948257, 17.05642717, 20.16625965, 19.22124505, 15.39593825,\n",
       "       18.42289041, 21.62851329, 17.50900816, 18.58578405, 21.00994654,\n",
       "       20.93516015, 19.17701778, 20.87261001, 18.13862431, 19.25292078,\n",
       "       16.43766667, 19.86993183, 16.49073174, 22.17591697, 22.31879049,\n",
       "       19.81658738, 18.38901968, 17.59856637, 18.01893219, 20.44942525,\n",
       "       13.64036097, 20.30801775, 19.2321687 , 20.99842162, 20.15247439,\n",
       "       21.52986345, 20.97730234, 20.4363313 , 18.97794562, 18.3112057 ,\n",
       "       20.57031268, 18.41314374, 19.58125188, 21.15242866, 18.79420315,\n",
       "       17.51125141, 18.24780492, 18.1641134 , 22.72176394, 17.41945021,\n",
       "       19.10590817, 17.90056679, 20.34550304, 23.60329382, 19.15855292,\n",
       "       17.22459032, 19.92619523, 19.87284746, 19.38130379, 20.77795745,\n",
       "       21.78439412, 21.88259258, 17.0903087 , 19.65648284, 16.85163818,\n",
       "       18.53735988, 18.49287779, 18.49405069, 18.21899837, 22.07957411,\n",
       "       18.46238243, 18.49879453, 20.47008575, 20.8584468 , 17.82320311,\n",
       "       18.6801726 , 17.25012136, 20.60092391, 21.16250314, 17.6905049 ,\n",
       "       19.27299144, 19.40331872, 21.19134953, 19.34068255, 16.90751676,\n",
       "       19.4024987 , 20.00682696, 19.16282903, 19.49598058, 17.5813785 ,\n",
       "       20.51949128, 19.3380486 , 18.56642916, 17.54879417, 20.15420866,\n",
       "       20.36574026, 20.21376089, 20.84796882, 22.29375313, 17.50533946,\n",
       "       20.43201845, 19.60580228, 19.2443783 , 20.96938001, 22.60619641,\n",
       "       18.11798585, 21.44384332, 19.53009482, 19.65443829, 22.09514319,\n",
       "       21.01654493, 19.06951954, 21.28852452, 18.79810236, 18.25901211,\n",
       "       16.37359039, 17.43655862, 20.81438191, 18.95391133, 19.72957918,\n",
       "       18.19410778, 20.60997749, 18.05984356, 17.23748323, 19.82202451,\n",
       "       18.40814258, 16.55799492, 20.86237301, 18.33611731, 18.94188659,\n",
       "       19.60503348, 20.63371802, 18.60094088, 20.1311937 , 17.91945829,\n",
       "       17.7691247 , 20.58871526, 19.62749621, 18.9577448 , 19.68147838,\n",
       "       21.89248686, 21.6236302 , 19.51957576, 20.0001972 , 19.65068494,\n",
       "       20.81615957, 19.76850676, 17.60640492, 20.23406341, 19.93653551,\n",
       "       20.77513374, 16.90493884, 18.82575901, 17.47081758, 19.32968071,\n",
       "       16.21302465, 20.37943141, 16.94991489, 20.2497088 , 21.55501101,\n",
       "       19.50349344, 18.19538512, 17.56086439, 16.51920738, 22.01679806,\n",
       "       18.92731201, 19.35073459, 18.26489161, 21.8865271 , 17.47269433,\n",
       "       17.72558529, 19.45089708, 20.22443295, 20.52026778, 18.0468968 ,\n",
       "       18.93640015, 18.73174766, 18.44621443, 18.07019898, 17.52960797,\n",
       "       20.28443552, 18.73886114, 21.30925456, 23.86195676, 19.45873882,\n",
       "       19.18034788, 18.79034417, 18.89464842, 19.75039623, 18.40713239,\n",
       "       19.28065127, 21.64870657, 17.44091251, 17.47294277, 18.80072404,\n",
       "       20.86350832, 18.76533818, 20.26293638, 20.63514012, 21.32969859,\n",
       "       17.73444471, 22.37391759, 19.66565706, 17.32303146, 16.52231983,\n",
       "       21.6425209 , 17.79903515, 17.41244291, 18.76952288, 15.30646136,\n",
       "       20.74518386, 20.13035766, 19.78745077, 19.51938195, 19.21396465,\n",
       "       20.60179103, 19.62086927, 19.95289599, 18.92233822, 19.95159356,\n",
       "       20.03703493, 19.67506402, 18.51958372, 18.68194721, 19.9005688 ,\n",
       "       20.54088966, 17.69367457, 18.36968433, 19.07843694, 17.35858894,\n",
       "       20.40152315, 21.49072522, 22.37460605, 18.72030898, 19.26263931,\n",
       "       17.57266844, 22.63314458, 17.98543969, 17.84269196, 17.85453515,\n",
       "       19.03950613, 16.25602574, 16.73568942, 20.18762259, 19.12738601,\n",
       "       19.58330762, 18.71661945, 18.09061534, 18.07713746, 16.78207302,\n",
       "       18.90417232, 18.81058993, 18.72787154, 19.37506584, 18.10908771,\n",
       "       17.01285947, 18.88972833, 19.8982004 , 19.67117151, 19.30429171,\n",
       "       22.6262961 , 19.0010334 , 22.19209581, 20.94903449, 19.50563094,\n",
       "       17.01644972, 20.5540336 , 19.05616167, 20.0451099 , 19.96314969,\n",
       "       22.93826023, 19.22427077, 21.74961679, 18.0617253 , 19.22375398,\n",
       "       17.89961191, 17.14358986, 20.7633506 , 19.64031691, 16.38454385,\n",
       "       17.87599519, 19.72387177, 20.27559993, 24.21675797, 18.75237963,\n",
       "       19.16524502, 19.694833  , 20.1975871 , 20.71794514, 16.5352907 ,\n",
       "       19.83435355, 18.91334512, 17.18026325, 19.64053094, 19.36569424,\n",
       "       21.07033759, 18.38747509, 18.36305439, 20.58209106, 16.18944779,\n",
       "       19.27517539, 19.09481257, 20.68116383, 19.68225434, 19.11322944,\n",
       "       18.92365126, 18.54777399, 20.33973538, 21.18680767, 15.58289879,\n",
       "       16.79011751, 17.33394301, 18.42559513, 20.33533868, 19.72540719,\n",
       "       18.87999054, 18.61625587, 19.63230191, 21.4278116 , 17.67812869,\n",
       "       19.67556128, 19.04523978, 19.35232401, 21.43620426, 21.93158066,\n",
       "       21.05472223, 21.98066222, 18.95975747, 20.33765193, 20.56448643,\n",
       "       18.92515241, 17.52498118, 21.53579858, 21.85182539, 17.19022752,\n",
       "       21.71216317, 17.84261115, 21.7879583 , 18.51678427, 21.34279001,\n",
       "       19.48715747, 18.9464569 , 21.39585034, 19.35187222, 19.25876196,\n",
       "       19.88811266, 18.37751159, 20.29116168, 22.55367786, 17.86071264,\n",
       "       20.99764884, 19.42063307, 18.5476662 , 19.45963465, 17.70923539,\n",
       "       20.55845028, 17.75288219, 19.84898051, 20.486246  , 18.22515549,\n",
       "       18.25759614, 22.70549923, 19.43578002, 21.16308593, 20.49211561,\n",
       "       19.00804345, 16.67783379, 18.52596988, 16.31896173, 19.97206   ,\n",
       "       19.80837194, 19.94456075, 21.67722512, 17.7929357 , 16.84602147,\n",
       "       17.33581576, 15.68449862, 19.15440579, 19.82652677, 20.28875704,\n",
       "       20.78128318, 17.43633796, 18.5493508 , 21.46114057, 19.72833746,\n",
       "       17.22123585, 19.22557746, 19.68786617, 16.20477444, 18.26960398,\n",
       "       20.31345685, 19.43330731, 22.07911132, 20.29148351, 19.3288098 ,\n",
       "       20.81244802, 20.70849208, 21.9845702 , 20.62493172, 19.25658333,\n",
       "       21.44397278, 21.3233654 , 19.01258563, 21.55998122, 20.13333851,\n",
       "       19.54779291, 17.38700413, 16.89250373, 18.69509577, 19.6889919 ,\n",
       "       19.82844814, 18.62128745, 20.81493272, 21.26557131, 18.96131831,\n",
       "       19.64744924, 18.98464897, 19.95983409, 18.97984903, 16.79466839,\n",
       "       17.59799112, 19.91659278, 20.47515438, 18.68046652, 18.7368657 ,\n",
       "       18.8068278 , 18.94076246, 18.85425666, 21.17175092, 18.59187002,\n",
       "       22.15548961, 20.38828697, 19.01962818, 21.25857846, 20.88282143,\n",
       "       15.47651617, 17.49800764, 21.57060495, 21.77327421, 21.7662466 ,\n",
       "       18.69752792, 20.06664259, 17.87786944, 16.85518064, 18.86809872,\n",
       "       20.93108582, 19.65053401, 18.99994462, 19.51909309, 18.22654088,\n",
       "       20.03911214, 16.63802666, 21.36314612, 20.49167471, 20.50823007,\n",
       "       17.94118492, 18.2554479 , 19.23224481, 20.73660245, 21.50220672,\n",
       "       17.46458564, 18.6372472 , 16.3797163 , 19.9657879 , 14.65603759,\n",
       "       20.31346457, 20.35788015, 22.55875309, 18.30674792, 17.73091916,\n",
       "       15.93735166, 18.81858812, 20.5416537 , 21.24584444, 18.49997766,\n",
       "       19.18612272, 18.64835138, 20.80729081, 20.35947833, 21.01740507,\n",
       "       21.61051865, 20.23641046, 21.19544918, 19.33664651, 19.42835721,\n",
       "       19.58175953, 20.05260263, 18.65446333, 19.61563984, 17.88934702,\n",
       "       19.74004721, 20.69832514, 18.32665855, 19.4591056 , 20.97931573,\n",
       "       20.82582473, 18.47656793, 18.12835985, 19.84213618, 18.88000154,\n",
       "       16.51954143, 18.8859487 , 24.0108485 , 18.50409845, 18.85509916,\n",
       "       17.28987342, 18.51494539, 19.91996698, 18.42906998, 21.6707135 ,\n",
       "       18.98179346, 17.32373746, 17.12635829, 19.91571857, 20.87261513,\n",
       "       19.50461676, 18.67418702, 21.1328523 , 19.29098799, 21.07577556,\n",
       "       18.45575597, 18.73261858, 18.87125352, 18.87692251, 20.26281939,\n",
       "       17.13521748, 21.76730876, 21.28603529, 19.55328935, 16.18525688,\n",
       "       21.24450442, 21.47776218, 18.33571812, 20.01220458, 18.54071487,\n",
       "       21.49859148, 18.59532175, 19.08820129, 17.49033668, 19.58148753,\n",
       "       19.81230578, 18.82549442, 19.44135344, 18.62218771, 17.32591703,\n",
       "       18.42695962, 19.35145908, 17.90607827, 17.99254836, 18.76599281,\n",
       "       22.17031102, 19.90167781, 17.84989044, 18.72567758, 19.74231062,\n",
       "       20.1612075 , 19.54915502, 16.21589925, 23.53911835, 16.83445523,\n",
       "       20.71696408, 20.40311436, 20.00564411, 20.04930141, 19.99001528,\n",
       "       18.9750378 , 19.98095391, 19.82683154, 19.34612333, 21.85914344,\n",
       "       19.02034956, 19.17465693, 18.97443352, 17.55001456, 21.10364082,\n",
       "       18.06314688, 17.13178886, 22.29692525, 20.18175248, 20.50353944,\n",
       "       20.41734014, 18.02208732, 20.71561123, 17.40308399, 19.10922886,\n",
       "       19.77192576, 17.99007567, 22.26287695, 19.42523244, 19.28155223,\n",
       "       19.60338147, 18.48439361, 19.34990804, 19.43666028, 18.1995589 ,\n",
       "       16.94239848, 19.01997461, 18.17982635, 16.80066382, 20.14965874,\n",
       "       17.83932077, 21.03682551, 18.06660951, 20.00114241, 18.82736182,\n",
       "       22.30395155, 16.92841274, 21.44395879, 20.53804614, 17.58366171,\n",
       "       18.78546734, 19.59534927, 21.21475228, 21.86416126, 17.40468827,\n",
       "       16.85887278, 21.34948087, 17.29356983, 19.00101881, 19.28587879,\n",
       "       18.09596443, 20.62257876, 21.2329654 , 19.18333451, 20.14945147,\n",
       "       21.20188602, 21.57402156, 17.90419707, 18.33584295, 19.06259549,\n",
       "       20.47376544, 19.33585191, 19.5792114 , 17.44289798, 17.63139471,\n",
       "       20.84723866, 18.49859965, 20.28536154, 16.71886607, 20.53152186,\n",
       "       18.61765088, 20.21289138, 19.84337935, 16.46845861, 18.26143512,\n",
       "       20.0254513 , 17.11053102, 22.502501  , 21.16437223, 21.30632865,\n",
       "       18.81265003, 19.47921157, 19.59420361, 18.53068617, 18.45750593,\n",
       "       17.04620809, 19.45379224, 17.40414055, 18.14465688, 19.48299147,\n",
       "       15.55275246, 19.19631215, 21.2697693 , 21.24021811, 18.68076804,\n",
       "       20.7462605 , 19.55497052, 21.45118572, 17.06316615, 20.18010333,\n",
       "       20.34477473, 20.43196766, 17.89328715, 19.44805231, 20.52369357,\n",
       "       21.80284041, 19.08617706, 19.86322   , 19.25879281, 18.60367699,\n",
       "       18.76826616, 20.3914381 , 18.03708372, 20.56138926, 19.2048627 ,\n",
       "       21.81614025, 20.4537091 , 16.79777137, 17.97914479, 20.27048265,\n",
       "       18.21813855, 20.85270746, 18.62111904, 21.94284584, 20.93344056,\n",
       "       18.51491975, 21.08987528, 18.46040722, 16.83345087, 19.46297148,\n",
       "       19.03644617, 19.68665371, 19.44259872, 20.32365337, 18.656739  ,\n",
       "       19.63162433, 20.00075079, 19.0312519 , 19.25278939, 16.57175323,\n",
       "       20.68814503, 19.22374964, 20.64580839, 16.88478148, 21.47558615,\n",
       "       20.54096121, 18.23879226, 17.71461137, 17.35227297, 19.89326252,\n",
       "       19.40150649, 20.59851943, 18.73589695, 18.24649326, 20.35786588,\n",
       "       20.70902789, 15.98181319, 18.49179168, 19.40738024, 21.73524892,\n",
       "       19.52155315, 18.48129891, 20.90088865, 17.87815401, 17.67496367,\n",
       "       23.38258491, 20.83566151, 19.28964177, 18.93434721, 20.46383616])"
      ]
     },
     "execution_count": 8,
     "metadata": {},
     "output_type": "execute_result"
    }
   ],
   "source": [
    "y"
   ]
  },
  {
   "cell_type": "code",
   "execution_count": 9,
   "metadata": {},
   "outputs": [
    {
     "name": "stdout",
     "output_type": "stream",
     "text": [
      "[[1. 1.]]\n"
     ]
    }
   ],
   "source": [
    "w=np.ones((1,x.shape[1]))\n",
    "print(w)"
   ]
  },
  {
   "cell_type": "code",
   "execution_count": 10,
   "metadata": {
    "scrolled": true
   },
   "outputs": [
    {
     "data": {
      "text/plain": [
       "(1, 2)"
      ]
     },
     "execution_count": 10,
     "metadata": {},
     "output_type": "execute_result"
    }
   ],
   "source": [
    "w.shape"
   ]
  },
  {
   "cell_type": "code",
   "execution_count": 11,
   "metadata": {},
   "outputs": [],
   "source": [
    "def hypo(w,x,b):#prediction\n",
    "    pred=np.dot(w,x.T)+b\n",
    "    return pred"
   ]
  },
  {
   "cell_type": "code",
   "execution_count": 12,
   "metadata": {},
   "outputs": [],
   "source": [
    "def error(pred,y,m):#cost #error\n",
    "    er=(1/(2*m))*np.sum(np.square(pred-y.T))\n",
    "    return er"
   ]
  },
  {
   "cell_type": "code",
   "execution_count": 13,
   "metadata": {},
   "outputs": [],
   "source": [
    "def gradient(pred,y,m,alpha,w,b):#gradient decent\n",
    "    dw=(1/m)*np.dot((pred-y.T),x)\n",
    "    db=(1/m)*np.sum(pred-y.T)\n",
    "    w=w-alpha*(dw)\n",
    "    b=b-alpha*db\n",
    "    return b,w"
   ]
  },
  {
   "cell_type": "code",
   "execution_count": 14,
   "metadata": {},
   "outputs": [
    {
     "name": "stdout",
     "output_type": "stream",
     "text": [
      "857.2622976797845\n",
      "0.5187223726857476\n",
      "0.4908370683200072\n",
      "0.4646848225236748\n",
      "0.43995112673648856\n",
      "0.41654617827189\n",
      "0.39439780122744156\n",
      "0.3734384835959278\n",
      "0.35360438643546943\n",
      "0.3348351010525112\n",
      "0.31707346203443443\n",
      "0.3002653729577885\n",
      "0.2843596416161203\n",
      "0.2693078241037484\n",
      "0.2550640772706655\n",
      "0.24158501909857194\n",
      "0.2288295965727666\n",
      "0.21675896064742006\n",
      "0.20533634792350566\n",
      "0.19452696867890312\n"
     ]
    }
   ],
   "source": [
    "#Main\n",
    "alpha=0.0005 #larning rate between 0 and 1 \n",
    "cost=[]\n",
    "b=1 #intercept\n",
    "m=x.shape[0]\n",
    "for i in range(2000000):\n",
    "    pred=hypo(w,x,b) #predicton\n",
    "    er=error(pred,y,m)\n",
    "    b,w=gradient(pred,y,m,alpha,w,b)\n",
    "    if i%100000==0:\n",
    "        print(er)\n",
    "        cost.append(er)"
   ]
  },
  {
   "cell_type": "code",
   "execution_count": 15,
   "metadata": {
    "scrolled": true
   },
   "outputs": [
    {
     "data": {
      "image/png": "[encoded data removed]",
      "text/plain": [
       "<Figure size 432x288 with 1 Axes>"
      ]
     },
     "metadata": {
      "needs_background": "light"
     },
     "output_type": "display_data"
    }
   ],
   "source": [
    "plt.plot(cost)\n",
    "plt.ylabel('cost')\n",
    "plt.xlabel('iterations')\n",
    "plt.title('Cost reduction over time')\n",
    "plt.show()"
   ]
  },
  {
   "cell_type": "code",
   "execution_count": 16,
   "metadata": {},
   "outputs": [
    {
     "name": "stdout",
     "output_type": "stream",
     "text": [
      "[[-8.67212957  0.29689954]]\n",
      "17.160856283328087\n"
     ]
    }
   ],
   "source": [
    "print(w)\n",
    "print(b)"
   ]
  },
  {
   "cell_type": "code",
   "execution_count": null,
   "metadata": {},
   "outputs": [],
   "source": [
    "##try comparing true label and predicted one"
   ]
  },
  {
   "cell_type": "code",
   "execution_count": 20,
   "metadata": {},
   "outputs": [
    {
     "name": "stdout",
     "output_type": "stream",
     "text": [
      "[[17.8841161  19.78491515 22.47803206 21.29890421 21.65748104 18.63026756\n",
      "  20.83648286 20.11206518 17.33377995 18.69738689 17.63371617 19.02814746\n",
      "  18.86539971 17.75083213 20.35084343 19.95774522 21.28948694 20.03821101\n",
      "  19.07533039 21.24122011 21.31511935 16.35939704 19.52587414 21.363206\n",
      "  19.82296489 20.73238669 20.00586172 17.09131468 18.08065886 15.75550274\n",
      "  18.92249882 19.15919208 19.95194763 20.20773929 19.25160381 21.53796317\n",
      "  18.58033507 19.90973779 17.42125651 18.79977727 19.61395968 20.62264766\n",
      "  20.68521276 16.95969104 19.37119636 22.0439464  17.9774195  20.11018362\n",
      "  21.55583804 19.33860248 18.57781953 17.51845715 19.38546199 21.61366748\n",
      "  22.64278699 19.74723389 18.6148567  20.3013742  19.8445868  20.48148901\n",
      "  19.58663387 19.74492678 19.7835136  16.89223917 21.13122349 20.11513383\n",
      "  16.29422255 20.19462319 19.60049497 20.66171645 16.84652612 19.43266585\n",
      "  18.74150264 20.76425605 20.63971506 17.37130493 18.73963312 20.1676845\n",
      "  18.86281225 22.65063461 19.92248269 19.29999256 20.71129055 21.29203144\n",
      "  19.43903022 18.0111271  19.8397453  20.5388915  20.73876193 20.34615512\n",
      "  17.01585705 19.69677893 19.36488352 18.72062866 19.76392899 19.70732638\n",
      "  17.53473836 16.61677069 19.93313452 20.17255604 15.98986666 17.66073267\n",
      "  18.80480011 18.82419681 19.58268886 19.15607577 20.22512694 18.67725795\n",
      "  18.91170588 19.42536023 17.70060467 18.17178999 19.35651    19.86847197\n",
      "  20.11397046 18.35324413 20.43353705 18.80777132 17.0319961  19.14006237\n",
      "  20.19025845 16.58247218 19.30597078 17.25880467 18.26210398 20.86755785\n",
      "  19.72855329 19.97458403 19.06801161 17.50028954 19.64384126 18.75375845\n",
      "  20.44067156 18.34401683 19.38218465 21.26607467 19.30344347 20.18694125\n",
      "  18.0707642  19.05489227 19.28600427 17.23030828 17.8048181  20.0775504\n",
      "  18.15372207 19.63114439 20.5338175  18.72764784 20.95786216 18.78540127\n",
      "  21.49075804 19.61423727 17.32293725 22.92780814 16.93944204 19.98291954\n",
      "  18.38135957 22.08309675 17.77115429 20.60247091 18.24236186 20.05028822\n",
      "  19.5046407  17.61024546 19.36155362 19.45441823 17.60647245 18.37475355\n",
      "  18.91155579 19.01736473 18.87373624 19.65270717 16.55779468 18.99257213\n",
      "  18.68896597 18.98480922 18.55011328 20.5575779  18.29959399 17.15017553\n",
      "  18.74595791 21.57958065 20.02075127 19.27029957 18.77362389 19.59671074\n",
      "  15.82668467 21.22194723 17.66709202 20.19032525 22.01559237 21.4187391\n",
      "  18.93789958 18.18861741 19.40428607 19.34006364 18.65297305 19.04092909\n",
      "  17.7034898  19.91580715 19.18155832 18.79434802 20.95577021 17.91932841\n",
      "  21.38321503 20.76602887 22.39538849 20.12697341 19.98215945 16.77470576\n",
      "  17.28267272 20.32104796 20.00814702 19.51760768 18.34716998 17.70552159\n",
      "  20.84077005 17.42187145 20.19745522 19.95135975 17.53636902 18.30798288\n",
      "  19.00198456 18.18316037 18.47982829 19.24281266 17.84518551 19.29962562\n",
      "  21.175424   21.40188253 16.9676959  19.41380234 20.23826107 17.88522124\n",
      "  17.45728779 22.1336791  21.21249353 21.17992588 21.35201357 20.539064\n",
      "  20.57069549 18.5475419  17.33968795 19.92755434 18.98987698 18.27962605\n",
      "  13.9946814  20.42723053 21.93507836 18.70968075 18.3498585  18.21598639\n",
      "  18.51446327 19.03987559 18.22035416 19.39282113 18.21712929 18.13011513\n",
      "  18.91005382 17.14205653 17.22336826 19.98059014 19.53979429 19.41145816\n",
      "  19.53167202 18.05732474 18.56069713 18.82812706 19.1624563  15.77926298\n",
      "  18.30426391 20.91894206 17.9370906  18.78402521 19.74202532 19.8288818\n",
      "  18.82200733 20.3498567  18.83749814 19.11657107 16.39822249 20.05431536\n",
      "  16.3053508  21.82460724 22.66610845 20.38681355 18.13029339 18.11142828\n",
      "  17.84947597 20.20151709 14.42042643 20.02759016 18.61129564 20.22391987\n",
      "  19.84741248 20.24914852 21.17867382 20.62395375 19.45191014 18.68148745\n",
      "  20.40593737 18.71598105 18.21889444 20.13943019 19.13513285 18.12479391\n",
      "  18.21354538 18.54992093 22.5142082  17.66100327 18.85836183 18.8694584\n",
      "  20.55432709 22.12936179 18.76477615 17.43807348 21.27910727 19.77688422\n",
      "  18.96394248 20.36163959 20.78602405 21.0624223  17.33691563 18.97777654\n",
      "  17.38367472 17.77176933 18.8843801  18.34769961 18.28031467 22.19758084\n",
      "  18.51018188 18.32832201 20.95973277 21.33771475 18.6963967  18.22407645\n",
      "  16.85338387 20.66564409 21.43866696 18.4243313  19.05726242 19.25635521\n",
      "  20.90408045 18.88627668 17.36308674 19.50199208 20.36875954 19.7982782\n",
      "  19.40907563 17.75550694 20.0893899  19.33857487 18.89140081 18.04567311\n",
      "  20.68798961 20.45332153 18.97417978 20.045941   22.3834273  18.08897356\n",
      "  20.41333222 19.63095773 19.62137269 20.87090638 23.88031742 18.84622775\n",
      "  20.42839856 19.05512145 20.44118098 21.53224555 20.73082636 19.11707155\n",
      "  21.3277271  18.7552284  17.54071387 16.23403243 17.72609941 20.9075158\n",
      "  19.04526482 20.00912583 19.54075631 19.83200115 18.49092099 17.65304518\n",
      "  19.29217815 18.83095205 16.76047322 21.1268944  18.28718851 18.54446301\n",
      "  19.77031544 19.18640963 18.93531733 19.56230464 17.74925928 17.84682453\n",
      "  20.0110335  19.28763882 18.41785762 20.22387796 22.02412533 22.06509392\n",
      "  18.61610496 20.41525461 19.46121079 19.35347554 20.80775539 17.0896448\n",
      "  19.10769351 18.18766513 19.7412902  17.08995302 19.65816174 17.69674552\n",
      "  19.14830826 17.18603318 20.18016068 17.01048446 20.21127376 20.41851846\n",
      "  19.6507098  18.83774075 18.0096419  16.61102799 20.83372094 19.56372732\n",
      "  19.22798549 18.8131099  21.43429008 18.34112664 18.29192994 19.05334266\n",
      "  19.96741217 19.52384882 18.87033313 19.88734267 18.39510335 18.53153193\n",
      "  18.21677847 18.50889539 19.82150814 19.6457154  21.53817402 23.79231867\n",
      "  19.58398545 19.62804544 19.1121695  18.99600063 20.05015134 18.54791792\n",
      "  19.17158725 21.64888702 17.99371691 17.42154963 19.971652   20.48328916\n",
      "  18.2961647  19.40641183 20.55532745 22.12669456 18.58536459 21.82199549\n",
      "  20.04990969 17.17457721 16.93702121 21.01645873 18.11931639 17.65871668\n",
      "  19.47441911 15.34455458 19.84231915 20.1591877  19.31080612 19.14249023\n",
      "  19.74548095 20.32078932 19.65116834 20.39033774 19.10128721 19.89724688\n",
      "  19.92373632 18.71900311 18.90729653 19.07215458 20.71821632 20.71980194\n",
      "  17.4321521  19.27531487 19.35938719 18.27300634 19.6529378  21.86434607\n",
      "  21.58084383 19.06013688 18.91495801 17.54310084 21.01455397 18.28286059\n",
      "  17.87349156 18.80889632 19.76837895 17.33762695 16.74559536 19.56511825\n",
      "  18.27957861 19.63903472 18.77345042 18.48360156 18.68506227 17.13541034\n",
      "  19.01509965 18.5653928  19.47511608 19.74221624 18.10199285 16.58539612\n",
      "  19.22617936 20.05105469 19.47889947 19.32798962 21.43408317 18.20098831\n",
      "  21.96613462 20.32581572 19.80427268 16.79762735 19.78399289 19.46649411\n",
      "  19.68233682 19.19321221 23.04656828 18.80924296 21.81269024 18.08541962\n",
      "  19.66478851 18.06675603 18.13112271 20.08010116 19.09869373 16.70004528\n",
      "  18.08628171 19.33837758 21.35867766 22.84670873 19.06748453 19.35653688\n",
      "  18.78522558 19.49242006 21.5830299  16.73442959 19.99999559 18.9664449\n",
      "  17.37769967 19.47413677 19.85336297 20.84433694 18.84150764 19.09472517\n",
      "  20.31006164 16.49755703 19.27417649 18.81992239 21.68986336 18.60214506\n",
      "  19.09187239 19.47989639 19.13345878 19.83099743 21.66613531 16.1631106\n",
      "  17.05990848 17.85636028 18.61950007 19.5033399  20.11966572 18.3366016\n",
      "  18.88506938 19.87738902 20.9478976  18.42547682 20.17468084 18.29526691\n",
      "  19.73037474 21.34184979 20.827462   19.57753755 22.40089855 19.09239458\n",
      "  20.26921917 20.3426972  18.49482457 18.12857746 20.49797393 21.15204378\n",
      "  17.24570024 22.35150022 18.4725219  20.76167545 19.81865635 21.79865434\n",
      "  19.35225924 18.46131039 21.8036659  19.39187229 19.46807625 19.39332176\n",
      "  19.04173684 19.43400578 22.41610111 17.27219053 21.38826179 18.91950746\n",
      "  19.27391933 20.00378307 18.39814661 20.13521213 17.95578041 19.69226855\n",
      "  19.36393799 17.94558447 18.09743079 21.46216742 19.06655894 20.39212423\n",
      "  21.0198685  19.6159756  16.2554445  18.63245084 16.46397079 20.77068406\n",
      "  19.77502162 20.84333135 21.35623061 17.31040197 16.76327004 18.33817757\n",
      "  16.27736034 18.59295897 20.23835928 21.14704089 20.02929522 17.20123377\n",
      "  18.55547853 20.74992518 20.25667922 18.18605084 19.39162789 19.9422857\n",
      "  16.52992297 17.85418821 19.57824482 20.35907755 21.57117682 21.13785041\n",
      "  19.37945757 20.39901923 20.84360204 21.79752444 20.16560367 18.8973583\n",
      "  20.40202764 20.20637779 19.0725636  22.21539162 19.40563265 19.97648119\n",
      "  17.6523301  17.61098978 18.85789724 19.99898744 19.65770323 19.47156157\n",
      "  21.46307577 22.26481046 19.0931274  19.98723864 19.68974397 19.67722265\n",
      "  18.85902422 17.17162288 17.49021813 21.20547923 20.4802832  19.50122467\n",
      "  18.31229435 18.92426681 18.73469221 18.82014521 20.76116777 18.59015261\n",
      "  22.24058045 20.89196074 19.75961553 20.5054665  20.5758537  15.4947288\n",
      "  18.00594232 22.20046642 21.21840009 21.63147232 18.48552138 19.3020596\n",
      "  17.53194288 17.15266794 20.06279861 20.35405507 19.91529641 18.11678607\n",
      "  19.19707866 18.58172623 20.74143136 17.37832157 20.34737218 20.05260666\n",
      "  19.74632616 18.39104885 18.00427052 19.24967612 21.11466464 19.93990003\n",
      "  17.24778675 19.94590395 16.33251941 20.89680948 14.4428012  21.11293079\n",
      "  20.29295103 21.02485612 17.76052937 18.11051109 15.73568867 18.36380656\n",
      "  19.75765381 21.42076871 18.65213826 19.78379458 18.86961475 20.52925051\n",
      "  19.20196283 19.75023785 20.62425816 19.44285577 20.67654566 20.57865487\n",
      "  19.60160291 19.40235921 20.67839421 17.61031427 19.04709177 17.60092652\n",
      "  20.29183367 21.05432336 17.97542959 19.43780523 20.48906034 20.87734693\n",
      "  18.57893045 17.68480986 20.11045897 19.56672422 17.42370371 19.72274287\n",
      "  22.89929404 19.10473854 18.59653428 18.33171483 19.02706827 20.22340656\n",
      "  18.14790388 20.12886811 19.05824552 18.02365322 18.05259785 18.94183511\n",
      "  20.31893021 19.80811127 18.83345335 20.35550705 20.49895578 20.12903882\n",
      "  19.05496001 18.03142818 18.74423655 18.47628579 19.88217674 17.28861929\n",
      "  21.38409998 19.65279755 19.06108677 17.35562711 20.97304917 21.20944241\n",
      "  18.36237435 20.27363398 18.34528037 20.92041651 19.1537975  18.93180252\n",
      "  17.69986004 19.61163463 20.16794093 19.15297408 20.26853389 17.7227775\n",
      "  18.27722927 19.6235006  18.81016092 17.92686526 17.91624209 20.21508898\n",
      "  20.96614502 20.13756955 17.35417994 18.91201466 20.68885025 19.70306619\n",
      "  19.47195115 16.34645761 23.14007161 16.71103591 19.38743453 20.07985883\n",
      "  18.89575299 20.21406948 20.60844966 18.02898768 19.61637557 19.74688081\n",
      "  19.38945656 21.4628317  18.87680319 18.55224921 19.44855853 18.7092079\n",
      "  21.34147979 17.97025174 17.61980185 21.54173365 20.00828205 20.3728895\n",
      "  19.7005436  18.96784344 20.38998824 18.07921417 20.45071556 19.29002174\n",
      "  18.24605216 21.31782929 19.68498614 19.5821369  19.61699703 18.68233284\n",
      "  20.10889295 20.09347562 18.20705867 17.51506215 19.00800267 18.38474138\n",
      "  16.70645437 21.05309474 17.34595172 20.17653717 18.08905089 20.2340311\n",
      "  19.13114416 22.33019937 17.25174195 22.47711349 20.62006579 17.33530292\n",
      "  20.06590779 19.20995466 20.24748477 22.15097339 17.20666859 16.78873698\n",
      "  21.3356052  17.5671687  18.92078476 20.23509764 17.98059389 21.32609103\n",
      "  22.16788468 20.04599386 19.5164814  20.97910221 20.04054301 17.76894151\n",
      "  19.09629302 18.38707738 20.66972316 19.29207154 19.29831247 17.54731787\n",
      "  18.31403094 19.54072281 19.04296268 19.72020467 17.0228818  19.808443\n",
      "  18.35827336 19.83240991 19.76361417 16.55473463 18.53837084 20.43658712\n",
      "  17.01263646 21.56334413 22.11715256 20.6016115  17.8259065  18.61625687\n",
      "  19.18664567 18.83957611 19.40874156 18.00640071 19.94278626 17.38840519\n",
      "  18.07334392 20.60510121 15.81203871 19.30897636 20.75780644 21.45765884\n",
      "  19.00955453 19.90451174 19.06269173 20.54720121 17.60500832 20.95270489\n",
      "  20.09843293 19.46825303 17.70937544 19.10643188 20.27886329 20.25695104\n",
      "  18.76947808 19.16748535 19.143923   18.84395481 18.30317039 19.91015121\n",
      "  18.53609681 20.58455605 19.53728464 21.37824525 19.61042142 16.65902135\n",
      "  18.02109001 20.01260383 18.72862361 20.04930571 19.24171212 20.6043936\n",
      "  21.10745968 19.01317486 22.0576108  18.92493039 17.31409946 19.87686322\n",
      "  19.22043937 19.38825422 18.86612885 19.63456747 19.48126443 19.3279345\n",
      "  19.11247896 19.38443676 19.49321283 17.83949157 20.60072118 19.30702961\n",
      "  20.29985058 17.33052824 20.74495033 19.40053105 18.26224775 19.16111918\n",
      "  18.26466423 19.78927322 19.14352932 19.92154626 18.68082759 18.79914499\n",
      "  20.26813331 20.17745722 16.23978939 18.18057455 19.05783994 22.04373561\n",
      "  19.9989333  17.89653521 20.69407006 19.12399831 18.535245   21.83460055\n",
      "  20.54439027 19.86204842 18.76484445 19.81647318]]\n"
     ]
    }
   ],
   "source": [
    "p=hypo(w,x,b)\n",
    "print(p)"
   ]
  },
  {
   "cell_type": "code",
   "execution_count": 21,
   "metadata": {
    "scrolled": true
   },
   "outputs": [
    {
     "name": "stdout",
     "output_type": "stream",
     "text": [
      "[18.35356231 18.7584782  22.33401515 21.49982789 22.07275754 18.36485748\n",
      " 20.41296726 19.56753733 17.13120924 19.01813419 17.54520204 18.9258715\n",
      " 19.10924187 17.50255542 19.47089433 20.60847878 21.32481594 19.10488481\n",
      " 19.34784271 21.58205872 21.26676576 17.07669376 19.44424753 21.80109169\n",
      " 20.18708692 19.94793445 20.29826882 17.20177106 18.69375688 15.02271709\n",
      " 19.59639877 19.22539616 19.21332561 19.10018371 18.89539265 22.33447848\n",
      " 18.61524935 20.0805596  18.28682104 18.5889674  20.65599464 20.23321995\n",
      " 20.90223215 17.18744208 19.19246377 22.89334232 17.91658686 19.8706185\n",
      " 21.14200216 19.58677024 17.86314148 17.03208244 20.30458172 21.10408812\n",
      " 22.10666605 20.33055223 19.05154888 20.6216217  20.45938215 20.30743432\n",
      " 19.5504978  20.16446428 18.97203044 16.555425   20.99802326 20.3403347\n",
      " 16.10707683 21.33610393 18.77035638 20.18375519 17.49134453 19.39694896\n",
      " 19.20392677 20.8467164  21.79909638 16.72012051 18.77666295 20.08547561\n",
      " 19.21124053 22.25633163 20.6324521  18.94941343 20.51160886 21.82339423\n",
      " 18.82701374 17.28800529 19.85983668 20.67850388 20.15700732 19.34012063\n",
      " 16.45870738 19.1102053  18.60961351 19.20158968 21.50893339 20.20563974\n",
      " 17.10463611 17.05104424 20.35506201 20.19095742 16.10687827 17.54064607\n",
      " 18.76080146 18.89243745 20.21604197 18.72156147 21.93989607 18.70650331\n",
      " 18.27873863 18.78436103 18.08587322 17.50321803 19.19548044 19.6981312\n",
      " 19.6518544  19.02154491 20.31523827 19.46232107 16.95983263 18.70928274\n",
      " 20.00689151 16.27159159 20.12353902 17.40929045 18.17504538 20.76873413\n",
      " 19.08860049 19.99726792 18.10624014 17.01372242 20.98320465 17.8199945\n",
      " 20.53626325 18.86708404 19.60237937 19.48505617 18.71633222 19.81064893\n",
      " 18.75962245 19.04688295 19.20307775 17.72703212 17.56771776 20.0095617\n",
      " 19.07578384 19.46793482 20.40258326 18.22810218 21.42544624 19.21833861\n",
      " 22.60785532 18.31419775 18.13846298 22.17654946 16.78243204 18.80910787\n",
      " 19.1010924  22.85603223 18.62731245 20.31089744 18.02492989 21.14416054\n",
      " 19.84325192 17.31511484 19.96128335 19.76848271 17.96006022 17.87642612\n",
      " 18.89554661 19.08157685 19.71466134 17.96136977 16.50630164 19.32774693\n",
      " 19.33987247 19.61529271 18.90675397 21.07173599 18.82670035 17.20744125\n",
      " 18.48166327 22.62361416 20.86603174 19.10849175 19.16694283 20.00811172\n",
      " 15.38848457 20.68686858 18.166488   20.52221226 22.63675    21.08848165\n",
      " 19.61999086 18.62363187 19.36684617 19.36384511 17.6364618  19.76646442\n",
      " 17.95179287 19.35904406 18.73577513 18.5671862  21.0606529  17.66125335\n",
      " 21.38126513 20.29541681 21.40812123 20.10574537 20.54648082 16.79152306\n",
      " 17.0646424  20.16611086 20.37180315 19.07097287 18.34472106 17.25257806\n",
      " 21.07790363 17.78036583 21.14831038 19.04298821 17.37950031 19.08727376\n",
      " 18.47503938 17.53586184 18.96838992 19.0686578  17.41710567 19.71998883\n",
      " 21.43470967 21.06630031 15.81579926 18.03023085 20.64156269 17.89134781\n",
      " 17.10952131 22.33221993 21.28857945 23.21241294 21.75818373 20.20731837\n",
      " 21.24136011 19.33029618 16.64384232 19.42993853 19.81665831 18.08267232\n",
      " 13.63809414 19.8753938  23.12132772 18.5896272  19.09206701 17.77869484\n",
      " 18.55744529 19.25728309 18.44179275 19.40442621 18.51881487 17.4159476\n",
      " 18.93184328 17.23856203 18.13655237 20.08255067 19.95024512 20.0304597\n",
      " 18.73248842 17.19948257 17.05642717 20.16625965 19.22124505 15.39593825\n",
      " 18.42289041 21.62851329 17.50900816 18.58578405 21.00994654 20.93516015\n",
      " 19.17701778 20.87261001 18.13862431 19.25292078 16.43766667 19.86993183\n",
      " 16.49073174 22.17591697 22.31879049 19.81658738 18.38901968 17.59856637\n",
      " 18.01893219 20.44942525 13.64036097 20.30801775 19.2321687  20.99842162\n",
      " 20.15247439 21.52986345 20.97730234 20.4363313  18.97794562 18.3112057\n",
      " 20.57031268 18.41314374 19.58125188 21.15242866 18.79420315 17.51125141\n",
      " 18.24780492 18.1641134  22.72176394 17.41945021 19.10590817 17.90056679\n",
      " 20.34550304 23.60329382 19.15855292 17.22459032 19.92619523 19.87284746\n",
      " 19.38130379 20.77795745 21.78439412 21.88259258 17.0903087  19.65648284\n",
      " 16.85163818 18.53735988 18.49287779 18.49405069 18.21899837 22.07957411\n",
      " 18.46238243 18.49879453 20.47008575 20.8584468  17.82320311 18.6801726\n",
      " 17.25012136 20.60092391 21.16250314 17.6905049  19.27299144 19.40331872\n",
      " 21.19134953 19.34068255 16.90751676 19.4024987  20.00682696 19.16282903\n",
      " 19.49598058 17.5813785  20.51949128 19.3380486  18.56642916 17.54879417\n",
      " 20.15420866 20.36574026 20.21376089 20.84796882 22.29375313 17.50533946\n",
      " 20.43201845 19.60580228 19.2443783  20.96938001 22.60619641 18.11798585\n",
      " 21.44384332 19.53009482 19.65443829 22.09514319 21.01654493 19.06951954\n",
      " 21.28852452 18.79810236 18.25901211 16.37359039 17.43655862 20.81438191\n",
      " 18.95391133 19.72957918 18.19410778 20.60997749 18.05984356 17.23748323\n",
      " 19.82202451 18.40814258 16.55799492 20.86237301 18.33611731 18.94188659\n",
      " 19.60503348 20.63371802 18.60094088 20.1311937  17.91945829 17.7691247\n",
      " 20.58871526 19.62749621 18.9577448  19.68147838 21.89248686 21.6236302\n",
      " 19.51957576 20.0001972  19.65068494 20.81615957 19.76850676 17.60640492\n",
      " 20.23406341 19.93653551 20.77513374 16.90493884 18.82575901 17.47081758\n",
      " 19.32968071 16.21302465 20.37943141 16.94991489 20.2497088  21.55501101\n",
      " 19.50349344 18.19538512 17.56086439 16.51920738 22.01679806 18.92731201\n",
      " 19.35073459 18.26489161 21.8865271  17.47269433 17.72558529 19.45089708\n",
      " 20.22443295 20.52026778 18.0468968  18.93640015 18.73174766 18.44621443\n",
      " 18.07019898 17.52960797 20.28443552 18.73886114 21.30925456 23.86195676\n",
      " 19.45873882 19.18034788 18.79034417 18.89464842 19.75039623 18.40713239\n",
      " 19.28065127 21.64870657 17.44091251 17.47294277 18.80072404 20.86350832\n",
      " 18.76533818 20.26293638 20.63514012 21.32969859 17.73444471 22.37391759\n",
      " 19.66565706 17.32303146 16.52231983 21.6425209  17.79903515 17.41244291\n",
      " 18.76952288 15.30646136 20.74518386 20.13035766 19.78745077 19.51938195\n",
      " 19.21396465 20.60179103 19.62086927 19.95289599 18.92233822 19.95159356\n",
      " 20.03703493 19.67506402 18.51958372 18.68194721 19.9005688  20.54088966\n",
      " 17.69367457 18.36968433 19.07843694 17.35858894 20.40152315 21.49072522\n",
      " 22.37460605 18.72030898 19.26263931 17.57266844 22.63314458 17.98543969\n",
      " 17.84269196 17.85453515 19.03950613 16.25602574 16.73568942 20.18762259\n",
      " 19.12738601 19.58330762 18.71661945 18.09061534 18.07713746 16.78207302\n",
      " 18.90417232 18.81058993 18.72787154 19.37506584 18.10908771 17.01285947\n",
      " 18.88972833 19.8982004  19.67117151 19.30429171 22.6262961  19.0010334\n",
      " 22.19209581 20.94903449 19.50563094 17.01644972 20.5540336  19.05616167\n",
      " 20.0451099  19.96314969 22.93826023 19.22427077 21.74961679 18.0617253\n",
      " 19.22375398 17.89961191 17.14358986 20.7633506  19.64031691 16.38454385\n",
      " 17.87599519 19.72387177 20.27559993 24.21675797 18.75237963 19.16524502\n",
      " 19.694833   20.1975871  20.71794514 16.5352907  19.83435355 18.91334512\n",
      " 17.18026325 19.64053094 19.36569424 21.07033759 18.38747509 18.36305439\n",
      " 20.58209106 16.18944779 19.27517539 19.09481257 20.68116383 19.68225434\n",
      " 19.11322944 18.92365126 18.54777399 20.33973538 21.18680767 15.58289879\n",
      " 16.79011751 17.33394301 18.42559513 20.33533868 19.72540719 18.87999054\n",
      " 18.61625587 19.63230191 21.4278116  17.67812869 19.67556128 19.04523978\n",
      " 19.35232401 21.43620426 21.93158066 21.05472223 21.98066222 18.95975747\n",
      " 20.33765193 20.56448643 18.92515241 17.52498118 21.53579858 21.85182539\n",
      " 17.19022752 21.71216317 17.84261115 21.7879583  18.51678427 21.34279001\n",
      " 19.48715747 18.9464569  21.39585034 19.35187222 19.25876196 19.88811266\n",
      " 18.37751159 20.29116168 22.55367786 17.86071264 20.99764884 19.42063307\n",
      " 18.5476662  19.45963465 17.70923539 20.55845028 17.75288219 19.84898051\n",
      " 20.486246   18.22515549 18.25759614 22.70549923 19.43578002 21.16308593\n",
      " 20.49211561 19.00804345 16.67783379 18.52596988 16.31896173 19.97206\n",
      " 19.80837194 19.94456075 21.67722512 17.7929357  16.84602147 17.33581576\n",
      " 15.68449862 19.15440579 19.82652677 20.28875704 20.78128318 17.43633796\n",
      " 18.5493508  21.46114057 19.72833746 17.22123585 19.22557746 19.68786617\n",
      " 16.20477444 18.26960398 20.31345685 19.43330731 22.07911132 20.29148351\n",
      " 19.3288098  20.81244802 20.70849208 21.9845702  20.62493172 19.25658333\n",
      " 21.44397278 21.3233654  19.01258563 21.55998122 20.13333851 19.54779291\n",
      " 17.38700413 16.89250373 18.69509577 19.6889919  19.82844814 18.62128745\n",
      " 20.81493272 21.26557131 18.96131831 19.64744924 18.98464897 19.95983409\n",
      " 18.97984903 16.79466839 17.59799112 19.91659278 20.47515438 18.68046652\n",
      " 18.7368657  18.8068278  18.94076246 18.85425666 21.17175092 18.59187002\n",
      " 22.15548961 20.38828697 19.01962818 21.25857846 20.88282143 15.47651617\n",
      " 17.49800764 21.57060495 21.77327421 21.7662466  18.69752792 20.06664259\n",
      " 17.87786944 16.85518064 18.86809872 20.93108582 19.65053401 18.99994462\n",
      " 19.51909309 18.22654088 20.03911214 16.63802666 21.36314612 20.49167471\n",
      " 20.50823007 17.94118492 18.2554479  19.23224481 20.73660245 21.50220672\n",
      " 17.46458564 18.6372472  16.3797163  19.9657879  14.65603759 20.31346457\n",
      " 20.35788015 22.55875309 18.30674792 17.73091916 15.93735166 18.81858812\n",
      " 20.5416537  21.24584444 18.49997766 19.18612272 18.64835138 20.80729081\n",
      " 20.35947833 21.01740507 21.61051865 20.23641046 21.19544918 19.33664651\n",
      " 19.42835721 19.58175953 20.05260263 18.65446333 19.61563984 17.88934702\n",
      " 19.74004721 20.69832514 18.32665855 19.4591056  20.97931573 20.82582473\n",
      " 18.47656793 18.12835985 19.84213618 18.88000154 16.51954143 18.8859487\n",
      " 24.0108485  18.50409845 18.85509916 17.28987342 18.51494539 19.91996698\n",
      " 18.42906998 21.6707135  18.98179346 17.32373746 17.12635829 19.91571857\n",
      " 20.87261513 19.50461676 18.67418702 21.1328523  19.29098799 21.07577556\n",
      " 18.45575597 18.73261858 18.87125352 18.87692251 20.26281939 17.13521748\n",
      " 21.76730876 21.28603529 19.55328935 16.18525688 21.24450442 21.47776218\n",
      " 18.33571812 20.01220458 18.54071487 21.49859148 18.59532175 19.08820129\n",
      " 17.49033668 19.58148753 19.81230578 18.82549442 19.44135344 18.62218771\n",
      " 17.32591703 18.42695962 19.35145908 17.90607827 17.99254836 18.76599281\n",
      " 22.17031102 19.90167781 17.84989044 18.72567758 19.74231062 20.1612075\n",
      " 19.54915502 16.21589925 23.53911835 16.83445523 20.71696408 20.40311436\n",
      " 20.00564411 20.04930141 19.99001528 18.9750378  19.98095391 19.82683154\n",
      " 19.34612333 21.85914344 19.02034956 19.17465693 18.97443352 17.55001456\n",
      " 21.10364082 18.06314688 17.13178886 22.29692525 20.18175248 20.50353944\n",
      " 20.41734014 18.02208732 20.71561123 17.40308399 19.10922886 19.77192576\n",
      " 17.99007567 22.26287695 19.42523244 19.28155223 19.60338147 18.48439361\n",
      " 19.34990804 19.43666028 18.1995589  16.94239848 19.01997461 18.17982635\n",
      " 16.80066382 20.14965874 17.83932077 21.03682551 18.06660951 20.00114241\n",
      " 18.82736182 22.30395155 16.92841274 21.44395879 20.53804614 17.58366171\n",
      " 18.78546734 19.59534927 21.21475228 21.86416126 17.40468827 16.85887278\n",
      " 21.34948087 17.29356983 19.00101881 19.28587879 18.09596443 20.62257876\n",
      " 21.2329654  19.18333451 20.14945147 21.20188602 21.57402156 17.90419707\n",
      " 18.33584295 19.06259549 20.47376544 19.33585191 19.5792114  17.44289798\n",
      " 17.63139471 20.84723866 18.49859965 20.28536154 16.71886607 20.53152186\n",
      " 18.61765088 20.21289138 19.84337935 16.46845861 18.26143512 20.0254513\n",
      " 17.11053102 22.502501   21.16437223 21.30632865 18.81265003 19.47921157\n",
      " 19.59420361 18.53068617 18.45750593 17.04620809 19.45379224 17.40414055\n",
      " 18.14465688 19.48299147 15.55275246 19.19631215 21.2697693  21.24021811\n",
      " 18.68076804 20.7462605  19.55497052 21.45118572 17.06316615 20.18010333\n",
      " 20.34477473 20.43196766 17.89328715 19.44805231 20.52369357 21.80284041\n",
      " 19.08617706 19.86322    19.25879281 18.60367699 18.76826616 20.3914381\n",
      " 18.03708372 20.56138926 19.2048627  21.81614025 20.4537091  16.79777137\n",
      " 17.97914479 20.27048265 18.21813855 20.85270746 18.62111904 21.94284584\n",
      " 20.93344056 18.51491975 21.08987528 18.46040722 16.83345087 19.46297148\n",
      " 19.03644617 19.68665371 19.44259872 20.32365337 18.656739   19.63162433\n",
      " 20.00075079 19.0312519  19.25278939 16.57175323 20.68814503 19.22374964\n",
      " 20.64580839 16.88478148 21.47558615 20.54096121 18.23879226 17.71461137\n",
      " 17.35227297 19.89326252 19.40150649 20.59851943 18.73589695 18.24649326\n",
      " 20.35786588 20.70902789 15.98181319 18.49179168 19.40738024 21.73524892\n",
      " 19.52155315 18.48129891 20.90088865 17.87815401 17.67496367 23.38258491\n",
      " 20.83566151 19.28964177 18.93434721 20.46383616]\n"
     ]
    }
   ],
   "source": [
    "print(y)"
   ]
  },
  {
   "cell_type": "code",
   "execution_count": 22,
   "metadata": {},
   "outputs": [],
   "source": [
    "#Getting label of the target ,test values\n",
    "t=test.drop(['ID'],axis=1)\n",
    "t=np.array(t)\n",
    "print(t.shape)"
   ]
  },
  {
   "cell_type": "code",
   "execution_count": 27,
   "metadata": {},
   "outputs": [],
   "source": [
    "testpred=hypo(w,t,b)#apply prediction function again"
   ]
  },
  {
   "cell_type": "code",
   "execution_count": 57,
   "metadata": {},
   "outputs": [
    {
     "data": {
      "text/plain": [
       "(1000,)"
      ]
     },
     "execution_count": 57,
     "metadata": {},
     "output_type": "execute_result"
    }
   ],
   "source": [
    "testpred.shape"
   ]
  },
  {
   "cell_type": "code",
   "execution_count": 58,
   "metadata": {},
   "outputs": [
    {
     "name": "stdout",
     "output_type": "stream",
     "text": [
      "(1000,)\n"
     ]
    }
   ],
   "source": [
    "ts=np.array(test['ID'])\n",
    "print(ts.shape)"
   ]
  },
  {
   "cell_type": "code",
   "execution_count": 59,
   "metadata": {
    "scrolled": true
   },
   "outputs": [],
   "source": [
    "e=pd.DataFrame({'ID':ts,'BMI':testpred})\n",
    "e.to_csv('BMIvectorized.CSV',encoding='utf-8',index=False)"
   ]
  },
  {
   "cell_type": "code",
   "execution_count": null,
   "metadata": {},
   "outputs": [],
   "source": [
    "\"\"\"#Main #optimal code\n",
    "alpha=0.0005\n",
    "cost=[]\n",
    "b=1\n",
    "m=x.shape[0]\n",
    "for i in range(200000):\n",
    "    pred=np.dot(w,x.T)+b #predicton\n",
    "    er=(1/(2*m))*np.sum(np.square(pred-y.T))\n",
    "    dw=(1/m)*np.dot((pred-y.T),x)\n",
    "    db=(1/m)*np.sum(pred-y.T)\n",
    "    w=w-alpha*(dw)\n",
    "    b=b-alpha*db\n",
    "    if i%100000==0:\n",
    "        print(er)\n",
    "        cost.append(er)\"\"\""
   ]
  }
 ],
 "metadata": {
  "kernelspec": {
   "display_name": "Python 3",
   "language": "python",
   "name": "python3"
  },
  "language_info": {
   "codemirror_mode": {
    "name": "ipython",
    "version": 3
   },
   "file_extension": ".py",
   "mimetype": "text/x-python",
   "name": "python",
   "nbconvert_exporter": "python",
   "pygments_lexer": "ipython3",
   "version": "3.8.8"
  }
 },
 "nbformat": 4,
 "nbformat_minor": 2
}
